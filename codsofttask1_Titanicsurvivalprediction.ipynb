{
 "cells": [
  {
   "cell_type": "code",
   "execution_count": 17,
   "id": "0273b16d",
   "metadata": {},
   "outputs": [],
   "source": [
    "#import necessary libraries\n",
    "import pandas as pd\n",
    "from sklearn.model_selection import train_test_split\n",
    "from sklearn.preprocessing import LabelEncoder\n",
    "from sklearn.ensemble import RandomForestClassifier\n",
    "from sklearn.metrics import accuracy_score, classification_report, confusion_matrix\n",
    "from sklearn.impute import SimpleImputer\n",
    "from sklearn.preprocessing import StandardScaler, LabelEncoder\n",
    "import matplotlib.pyplot as plt\n",
    "import seaborn as sns"
   ]
  },
  {
   "cell_type": "code",
   "execution_count": 18,
   "id": "cb4606e9",
   "metadata": {},
   "outputs": [],
   "source": [
    "# Load the dataset\n",
    "data = pd.read_csv(\"codsofttitanicsurvivaldataset.csv\", delimiter=',') "
   ]
  },
  {
   "cell_type": "code",
   "execution_count": 19,
   "id": "e9c54b12",
   "metadata": {},
   "outputs": [
    {
     "name": "stdout",
     "output_type": "stream",
     "text": [
      "<class 'pandas.core.frame.DataFrame'>\n",
      "RangeIndex: 418 entries, 0 to 417\n",
      "Data columns (total 12 columns):\n",
      " #   Column       Non-Null Count  Dtype  \n",
      "---  ------       --------------  -----  \n",
      " 0   PassengerId  418 non-null    int64  \n",
      " 1   Survived     418 non-null    int64  \n",
      " 2   Pclass       418 non-null    int64  \n",
      " 3   Name         418 non-null    object \n",
      " 4   Sex          418 non-null    object \n",
      " 5   Age          332 non-null    float64\n",
      " 6   SibSp        418 non-null    int64  \n",
      " 7   Parch        418 non-null    int64  \n",
      " 8   Ticket       418 non-null    object \n",
      " 9   Fare         417 non-null    float64\n",
      " 10  Cabin        91 non-null     object \n",
      " 11  Embarked     418 non-null    object \n",
      "dtypes: float64(2), int64(5), object(5)\n",
      "memory usage: 31.1+ KB\n",
      "None\n"
     ]
    }
   ],
   "source": [
    "# Display basic information about the dataset\n",
    "print(data.info())"
   ]
  },
  {
   "cell_type": "code",
   "execution_count": 20,
   "id": "cd115591",
   "metadata": {},
   "outputs": [
    {
     "name": "stdout",
     "output_type": "stream",
     "text": [
      "   PassengerId  Survived  Pclass  \\\n",
      "0          892         0       3   \n",
      "1          893         1       3   \n",
      "2          894         0       2   \n",
      "3          895         0       3   \n",
      "4          896         1       3   \n",
      "\n",
      "                                           Name     Sex   Age  SibSp  Parch  \\\n",
      "0                              Kelly, Mr. James    male  34.5      0      0   \n",
      "1              Wilkes, Mrs. James (Ellen Needs)  female  47.0      1      0   \n",
      "2                     Myles, Mr. Thomas Francis    male  62.0      0      0   \n",
      "3                              Wirz, Mr. Albert    male  27.0      0      0   \n",
      "4  Hirvonen, Mrs. Alexander (Helga E Lindqvist)  female  22.0      1      1   \n",
      "\n",
      "    Ticket     Fare Cabin Embarked  \n",
      "0   330911   7.8292   NaN        Q  \n",
      "1   363272   7.0000   NaN        S  \n",
      "2   240276   9.6875   NaN        Q  \n",
      "3   315154   8.6625   NaN        S  \n",
      "4  3101298  12.2875   NaN        S  \n"
     ]
    }
   ],
   "source": [
    "# Display the first few rows of the dataset\n",
    "print(data.head())"
   ]
  },
  {
   "cell_type": "code",
   "execution_count": 21,
   "id": "b9344856",
   "metadata": {},
   "outputs": [
    {
     "name": "stdout",
     "output_type": "stream",
     "text": [
      "PassengerId      0\n",
      "Survived         0\n",
      "Pclass           0\n",
      "Name             0\n",
      "Sex              0\n",
      "Age             86\n",
      "SibSp            0\n",
      "Parch            0\n",
      "Ticket           0\n",
      "Fare             1\n",
      "Cabin          327\n",
      "Embarked         0\n",
      "dtype: int64\n"
     ]
    }
   ],
   "source": [
    "# Check for missing values\n",
    "print(data.isnull().sum())"
   ]
  },
  {
   "cell_type": "code",
   "execution_count": 23,
   "id": "32becce0",
   "metadata": {},
   "outputs": [],
   "source": [
    "# Handle missing values in Age column using median\n",
    "median_age = data['Age'].median()\n",
    "data['Age'].fillna(median_age, inplace=True)\n",
    "\n",
    "# Handle missing values in Fare column using mean\n",
    "mean_fare = data['Fare'].mean()\n",
    "data['Fare'].fillna(mean_fare, inplace=True)\n",
    "\n",
    "# Handle the \"Cabin\" column\n",
    "label_encoder = LabelEncoder()\n",
    "data[\"Cabin\"].fillna(\"Unknown\", inplace=True)  # Fill missing values with \"Unknown\"\n",
    "data[\"Cabin_Deck\"] = data[\"Cabin\"].str[0]  # Extract the first character as the deck\n",
    "data[\"Cabin_Deck\"] = label_encoder.fit_transform(data[\"Cabin_Deck\"])\n"
   ]
  },
  {
   "cell_type": "code",
   "execution_count": 25,
   "id": "02ddd5df",
   "metadata": {},
   "outputs": [
    {
     "data": {
      "image/png": "[encoded data removed]",
      "text/plain": [
       "<Figure size 432x288 with 1 Axes>"
      ]
     },
     "metadata": {
      "needs_background": "light"
     },
     "output_type": "display_data"
    }
   ],
   "source": [
    "# Data visualization\n",
    "# # Visualize the count of survivors\n",
    "plt.figure(figsize=(6, 4))\n",
    "sns.countplot(x='Survived', data=data)\n",
    "plt.title(\"Survival Count\")\n",
    "plt.xticks([0, 1], ['Not Survived', 'Survived'])\n",
    "plt.show()"
   ]
  },
  {
   "cell_type": "code",
   "execution_count": 27,
   "id": "da05df48",
   "metadata": {},
   "outputs": [
    {
     "data": {
      "image/png": "[encoded data removed]",
      "text/plain": [
       "<Figure size 432x288 with 1 Axes>"
      ]
     },
     "metadata": {
      "needs_background": "light"
     },
     "output_type": "display_data"
    }
   ],
   "source": [
    "# Visualize the survival count based on gender\n",
    "plt.figure(figsize=(6, 4))\n",
    "sns.countplot(x='Survived', hue='Sex', data=data)\n",
    "plt.title(\"Survival Count by Gender\")\n",
    "plt.xticks([0, 1], ['Not Survived', 'Survived'])\n",
    "plt.legend(title='Gender')\n",
    "plt.show()"
   ]
  },
  {
   "cell_type": "code",
   "execution_count": 29,
   "id": "be2a57b7",
   "metadata": {},
   "outputs": [
    {
     "data": {
      "image/png": "[encoded data removed]",
      "text/plain": [
       "<Figure size 432x288 with 1 Axes>"
      ]
     },
     "metadata": {
      "needs_background": "light"
     },
     "output_type": "display_data"
    }
   ],
   "source": [
    "# Visualize the survival count based on passenger class\n",
    "plt.figure(figsize=(6, 4))\n",
    "sns.countplot(x='Survived', hue='Pclass', data=data)\n",
    "plt.title(\"Survival Count by Passenger Class\")\n",
    "plt.xticks([0, 1], ['Not Survived', 'Survived'])\n",
    "plt.legend(title='Passenger Class')\n",
    "plt.show()"
   ]
  },
  {
   "cell_type": "code",
   "execution_count": 31,
   "id": "fa7ca55a",
   "metadata": {},
   "outputs": [
    {
     "data": {
      "image/png": "[encoded data removed]",
      "text/plain": [
       "<Figure size 432x288 with 1 Axes>"
      ]
     },
     "metadata": {
      "needs_background": "light"
     },
     "output_type": "display_data"
    }
   ],
   "source": [
    "# Visualize the distribution of ages\n",
    "plt.figure(figsize=(6, 4))\n",
    "sns.histplot(data=data, x='Age', bins=20, kde=True)\n",
    "plt.title(\"Age Distribution\")\n",
    "plt.xlabel(\"Age\")\n",
    "plt.ylabel(\"Frequency\")\n",
    "plt.show()"
   ]
  },
  {
   "cell_type": "code",
   "execution_count": 33,
   "id": "cc490f9c",
   "metadata": {},
   "outputs": [
    {
     "data": {
      "image/png": "[encoded data removed]",
      "text/plain": [
       "<Figure size 432x288 with 1 Axes>"
      ]
     },
     "metadata": {
      "needs_background": "light"
     },
     "output_type": "display_data"
    }
   ],
   "source": [
    "# Visualize the fare distribution\n",
    "plt.figure(figsize=(6, 4))\n",
    "sns.histplot(data=data, x='Fare', bins=20, kde=True)\n",
    "plt.title(\"Fare Distribution\")\n",
    "plt.xlabel(\"Fare\")\n",
    "plt.ylabel(\"Frequency\")\n",
    "plt.show()"
   ]
  },
  {
   "cell_type": "code",
   "execution_count": 37,
   "id": "0a91332c",
   "metadata": {},
   "outputs": [],
   "source": [
    "# Convert categorical variables to numerical\n",
    "data[\"Sex\"] = label_encoder.fit_transform(data[\"Sex\"])\n",
    "data[\"Embarked\"] = label_encoder.fit_transform(data[\"Embarked\"])\n",
    "data[\"Cabin\"] = label_encoder.fit_transform(data[\"Cabin\"])"
   ]
  },
  {
   "cell_type": "code",
   "execution_count": 42,
   "id": "9a278022",
   "metadata": {},
   "outputs": [],
   "source": [
    "# Define the features and target variable\n",
    "features = [\"PassengerId\", \"Pclass\", \"Sex\", \"Age\", \"SibSp\", \"Parch\", \"Fare\", \"Cabin\", \"Embarked\"]\n",
    "target = \"Survived\""
   ]
  },
  {
   "cell_type": "code",
   "execution_count": 43,
   "id": "e2b5d79d",
   "metadata": {},
   "outputs": [],
   "source": [
    "# Create the feature matrix X and target vector y\n",
    "X = data[features]\n",
    "y = data[target]"
   ]
  },
  {
   "cell_type": "code",
   "execution_count": 45,
   "id": "ef1d4b76",
   "metadata": {},
   "outputs": [
    {
     "name": "stdout",
     "output_type": "stream",
     "text": [
      "     PassengerId  Pclass  Sex   Age  SibSp  Parch      Fare  Cabin  Embarked\n",
      "0            892       3    1  34.5      0      0    7.8292     76         1\n",
      "1            893       3    0  47.0      1      0    7.0000     76         2\n",
      "2            894       2    1  62.0      0      0    9.6875     76         1\n",
      "3            895       3    1  27.0      0      0    8.6625     76         2\n",
      "4            896       3    0  22.0      1      1   12.2875     76         2\n",
      "..           ...     ...  ...   ...    ...    ...       ...    ...       ...\n",
      "413         1305       3    1  27.0      0      0    8.0500     76         2\n",
      "414         1306       1    0  39.0      0      0  108.9000     22         0\n",
      "415         1307       3    1  38.5      0      0    7.2500     76         2\n",
      "416         1308       3    1  27.0      0      0    8.0500     76         2\n",
      "417         1309       3    1  27.0      1      1   22.3583     76         0\n",
      "\n",
      "[418 rows x 9 columns]\n"
     ]
    }
   ],
   "source": [
    "print(X)"
   ]
  },
  {
   "cell_type": "code",
   "execution_count": 47,
   "id": "a8ef3010",
   "metadata": {},
   "outputs": [
    {
     "name": "stdout",
     "output_type": "stream",
     "text": [
      "0      0\n",
      "1      1\n",
      "2      0\n",
      "3      0\n",
      "4      1\n",
      "      ..\n",
      "413    0\n",
      "414    1\n",
      "415    0\n",
      "416    0\n",
      "417    0\n",
      "Name: Survived, Length: 418, dtype: int64\n"
     ]
    }
   ],
   "source": [
    "print(y)"
   ]
  },
  {
   "cell_type": "code",
   "execution_count": 49,
   "id": "86b6dde7",
   "metadata": {},
   "outputs": [],
   "source": [
    "# Split the data into training and test sets\n",
    "X_train, X_test, y_train, y_test = train_test_split(X, y, test_size=0.2, random_state=42)"
   ]
  },
  {
   "cell_type": "code",
   "execution_count": 52,
   "id": "ec1d1e2a",
   "metadata": {},
   "outputs": [
    {
     "data": {
      "text/plain": [
       "RandomForestClassifier(random_state=42)"
      ]
     },
     "execution_count": 52,
     "metadata": {},
     "output_type": "execute_result"
    }
   ],
   "source": [
    "# Initialize and train a Random Forest Classifier\n",
    "model = RandomForestClassifier(n_estimators=100, random_state=42)\n",
    "model.fit(X_train, y_train)"
   ]
  },
  {
   "cell_type": "code",
   "execution_count": 61,
   "id": "2f7e1495",
   "metadata": {},
   "outputs": [],
   "source": [
    "# Make predictions\n",
    "y_pred = model.predict(X_test)\n"
   ]
  },
  {
   "cell_type": "code",
   "execution_count": 62,
   "id": "7ecd5bb9",
   "metadata": {},
   "outputs": [
    {
     "data": {
      "image/png": "[encoded data removed]",
      "text/plain": [
       "<Figure size 576x432 with 2 Axes>"
      ]
     },
     "metadata": {
      "needs_background": "light"
     },
     "output_type": "display_data"
    }
   ],
   "source": [
    "# Visualize the confusion matrix\n",
    "plt.figure(figsize=(8, 6))\n",
    "sns.heatmap(conf_matrix, annot=True, cmap=\"Blues\", fmt=\"d\")\n",
    "plt.xlabel(\"Predicted\")\n",
    "plt.ylabel(\"Actual\")\n",
    "plt.title(\"Confusion Matrix\")\n",
    "plt.show()"
   ]
  },
  {
   "cell_type": "code",
   "execution_count": 63,
   "id": "2ba7af74",
   "metadata": {},
   "outputs": [
    {
     "name": "stdout",
     "output_type": "stream",
     "text": [
      "Passenger 1213: Prediction - Did not survive, Actual - Did not survive\n",
      "Passenger 1216: Prediction - Survived, Actual - Survived\n",
      "Passenger 1280: Prediction - Did not survive, Actual - Did not survive\n",
      "Passenger 948: Prediction - Did not survive, Actual - Did not survive\n",
      "Passenger 1045: Prediction - Survived, Actual - Survived\n",
      "Passenger 922: Prediction - Did not survive, Actual - Did not survive\n",
      "Passenger 964: Prediction - Survived, Actual - Survived\n",
      "Passenger 974: Prediction - Did not survive, Actual - Did not survive\n",
      "Passenger 1150: Prediction - Survived, Actual - Survived\n",
      "Passenger 1308: Prediction - Did not survive, Actual - Did not survive\n",
      "Passenger 901: Prediction - Did not survive, Actual - Did not survive\n",
      "Passenger 1283: Prediction - Survived, Actual - Survived\n",
      "Passenger 996: Prediction - Survived, Actual - Survived\n",
      "Passenger 1306: Prediction - Survived, Actual - Survived\n",
      "Passenger 1305: Prediction - Did not survive, Actual - Did not survive\n",
      "Passenger 931: Prediction - Did not survive, Actual - Did not survive\n",
      "Passenger 1304: Prediction - Survived, Actual - Survived\n",
      "Passenger 1270: Prediction - Did not survive, Actual - Did not survive\n",
      "Passenger 947: Prediction - Did not survive, Actual - Did not survive\n",
      "Passenger 1298: Prediction - Did not survive, Actual - Did not survive\n",
      "Passenger 1279: Prediction - Did not survive, Actual - Did not survive\n",
      "Passenger 1137: Prediction - Did not survive, Actual - Did not survive\n",
      "Passenger 1301: Prediction - Survived, Actual - Survived\n",
      "Passenger 1072: Prediction - Did not survive, Actual - Did not survive\n",
      "Passenger 1117: Prediction - Survived, Actual - Survived\n",
      "Passenger 1005: Prediction - Survived, Actual - Survived\n",
      "Passenger 1256: Prediction - Survived, Actual - Survived\n",
      "Passenger 1040: Prediction - Did not survive, Actual - Did not survive\n",
      "Passenger 1229: Prediction - Did not survive, Actual - Did not survive\n",
      "Passenger 970: Prediction - Did not survive, Actual - Did not survive\n",
      "Passenger 1102: Prediction - Did not survive, Actual - Did not survive\n",
      "Passenger 1259: Prediction - Survived, Actual - Survived\n",
      "Passenger 1033: Prediction - Survived, Actual - Survived\n",
      "Passenger 985: Prediction - Did not survive, Actual - Did not survive\n",
      "Passenger 1114: Prediction - Survived, Actual - Survived\n",
      "Passenger 1096: Prediction - Did not survive, Actual - Did not survive\n",
      "Passenger 971: Prediction - Survived, Actual - Survived\n",
      "Passenger 1193: Prediction - Did not survive, Actual - Did not survive\n",
      "Passenger 1140: Prediction - Survived, Actual - Survived\n",
      "Passenger 967: Prediction - Did not survive, Actual - Did not survive\n",
      "Passenger 962: Prediction - Survived, Actual - Survived\n",
      "Passenger 925: Prediction - Survived, Actual - Survived\n",
      "Passenger 1002: Prediction - Did not survive, Actual - Did not survive\n",
      "Passenger 1182: Prediction - Did not survive, Actual - Did not survive\n",
      "Passenger 965: Prediction - Did not survive, Actual - Did not survive\n",
      "Passenger 1153: Prediction - Did not survive, Actual - Did not survive\n",
      "Passenger 1257: Prediction - Survived, Actual - Survived\n",
      "Passenger 907: Prediction - Survived, Actual - Survived\n",
      "Passenger 969: Prediction - Survived, Actual - Survived\n",
      "Passenger 1177: Prediction - Did not survive, Actual - Did not survive\n",
      "Passenger 892: Prediction - Did not survive, Actual - Did not survive\n",
      "Passenger 911: Prediction - Survived, Actual - Survived\n",
      "Passenger 1160: Prediction - Survived, Actual - Survived\n",
      "Passenger 1285: Prediction - Did not survive, Actual - Did not survive\n",
      "Passenger 1261: Prediction - Did not survive, Actual - Did not survive\n",
      "Passenger 1167: Prediction - Survived, Actual - Survived\n",
      "Passenger 968: Prediction - Did not survive, Actual - Did not survive\n",
      "Passenger 1029: Prediction - Did not survive, Actual - Did not survive\n",
      "Passenger 1246: Prediction - Survived, Actual - Survived\n",
      "Passenger 1288: Prediction - Did not survive, Actual - Did not survive\n",
      "Passenger 917: Prediction - Did not survive, Actual - Did not survive\n",
      "Passenger 1269: Prediction - Did not survive, Actual - Did not survive\n",
      "Passenger 1060: Prediction - Survived, Actual - Survived\n",
      "Passenger 1169: Prediction - Did not survive, Actual - Did not survive\n",
      "Passenger 1067: Prediction - Survived, Actual - Survived\n",
      "Passenger 1243: Prediction - Did not survive, Actual - Did not survive\n",
      "Passenger 934: Prediction - Did not survive, Actual - Did not survive\n",
      "Passenger 1047: Prediction - Did not survive, Actual - Did not survive\n",
      "Passenger 1223: Prediction - Did not survive, Actual - Did not survive\n",
      "Passenger 1296: Prediction - Did not survive, Actual - Did not survive\n",
      "Passenger 1208: Prediction - Did not survive, Actual - Did not survive\n",
      "Passenger 1170: Prediction - Did not survive, Actual - Did not survive\n",
      "Passenger 1233: Prediction - Did not survive, Actual - Did not survive\n",
      "Passenger 914: Prediction - Survived, Actual - Survived\n",
      "Passenger 938: Prediction - Did not survive, Actual - Did not survive\n",
      "Passenger 1268: Prediction - Survived, Actual - Survived\n",
      "Passenger 1227: Prediction - Did not survive, Actual - Did not survive\n",
      "Passenger 982: Prediction - Survived, Actual - Survived\n",
      "Passenger 1057: Prediction - Survived, Actual - Survived\n",
      "Passenger 949: Prediction - Did not survive, Actual - Did not survive\n",
      "Passenger 1018: Prediction - Did not survive, Actual - Did not survive\n",
      "Passenger 916: Prediction - Survived, Actual - Survived\n",
      "Passenger 909: Prediction - Did not survive, Actual - Did not survive\n",
      "Passenger 958: Prediction - Survived, Actual - Survived\n",
      "\n",
      "Model Evaluation Report:\n",
      "Accuracy: 1.0\n",
      "Classification Report:\n",
      "               precision    recall  f1-score   support\n",
      "\n",
      "           0       1.00      1.00      1.00        50\n",
      "           1       1.00      1.00      1.00        34\n",
      "\n",
      "    accuracy                           1.00        84\n",
      "   macro avg       1.00      1.00      1.00        84\n",
      "weighted avg       1.00      1.00      1.00        84\n",
      "\n",
      "Confusion Matrix:\n",
      " [[50  0]\n",
      " [ 0 34]]\n"
     ]
    }
   ],
   "source": [
    "# Displaying the Predictions\n",
    "for PassengerId, prediction, actual in zip(X_test['PassengerId'], y_pred, y_test):\n",
    "    prediction_label = 'Survived' if prediction == 1 else 'Did not survive'\n",
    "    actual_label = 'Survived' if actual == 1 else 'Did not survive'\n",
    "    print(f\"Passenger {PassengerId}: Prediction - {prediction_label}, Actual - {actual_label}\")\n",
    "\n",
    "# Evaluate the model\n",
    "accuracy = accuracy_score(y_test, y_pred)\n",
    "report = classification_report(y_test, y_pred)\n",
    "conf_matrix = confusion_matrix(y_test, y_pred)\n",
    "\n",
    "# Generate a prediction analysis report\n",
    "print(\"\\nModel Evaluation Report:\")\n",
    "print(\"Accuracy:\", accuracy)\n",
    "print(\"Classification Report:\\n\", report)\n",
    "print(\"Confusion Matrix:\\n\", conf_matrix)"
   ]
  }
 ],
 "metadata": {
  "kernelspec": {
   "display_name": "Python 3",
   "language": "python",
   "name": "python3"
  },
  "language_info": {
   "codemirror_mode": {
    "name": "ipython",
    "version": 3
   },
   "file_extension": ".py",
   "mimetype": "text/x-python",
   "name": "python",
   "nbconvert_exporter": "python",
   "pygments_lexer": "ipython3",
   "version": "3.8.8"
  }
 },
 "nbformat": 4,
 "nbformat_minor": 5
}
